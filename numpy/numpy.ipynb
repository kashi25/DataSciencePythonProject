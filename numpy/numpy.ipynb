{
 "cells": [
  {
   "cell_type": "markdown",
   "id": "0e839fd7",
   "metadata": {},
   "source": [
    "NumPy is a Python library used for working with arrays, linear algebra, fourier transform, and matrices. NumPy stands for Numerical Python and it is an open source project. The array object in NumPy is called **ndarray**, it provides a lot of supporting functions that make working with ndarray very easy.\n",
    "\n",
    "Arrays are very frequently used in data science, where speed and resources are very important.\n",
    "\n",
    "NumPy is usually imported under the np alias.\n",
    "\n",
    "It's usually fixed in size and each element is of the same type. We can cast a list to a numpy array by first importing `numpy`:\n"
   ]
  },
  {
   "cell_type": "code",
   "execution_count": 1,
   "id": "07887031",
   "metadata": {},
   "outputs": [],
   "source": [
    "import numpy as np"
   ]
  },
  {
   "cell_type": "code",
   "execution_count": 2,
   "id": "9d9622bd",
   "metadata": {},
   "outputs": [
    {
     "data": {
      "text/plain": [
       "array([0, 1, 2, 3, 4])"
      ]
     },
     "execution_count": 2,
     "metadata": {},
     "output_type": "execute_result"
    }
   ],
   "source": [
    "a = np.array([0,1,2,3,4])\n",
    "a"
   ]
  },
  {
   "cell_type": "markdown",
   "id": "3e6f5b27",
   "metadata": {},
   "source": [
    "<img src=\"https://cf-courses-data.s3.us.cloud-object-storage.appdomain.cloud/IBMDeveloperSkillsNetwork-PY0101EN-SkillsNetwork/labs/Module%205/images/NumOneNp.png\" width=\"500\">\n"
   ]
  },
  {
   "cell_type": "code",
   "execution_count": 3,
   "id": "1f0b4ac9",
   "metadata": {},
   "outputs": [
    {
     "name": "stdout",
     "output_type": "stream",
     "text": [
      "3\n"
     ]
    }
   ],
   "source": [
    "print(a[3])"
   ]
  },
  {
   "cell_type": "markdown",
   "id": "a2de7a86",
   "metadata": {},
   "source": [
    "# checking numpy version"
   ]
  },
  {
   "cell_type": "code",
   "execution_count": 4,
   "id": "6550fe38",
   "metadata": {},
   "outputs": [
    {
     "name": "stdout",
     "output_type": "stream",
     "text": [
      "1.24.3\n"
     ]
    }
   ],
   "source": [
    "print(np.__version__)"
   ]
  },
  {
   "cell_type": "markdown",
   "id": "a464101f",
   "metadata": {},
   "source": [
    "# type checking"
   ]
  },
  {
   "cell_type": "code",
   "execution_count": 5,
   "id": "3a0c1a98",
   "metadata": {},
   "outputs": [
    {
     "data": {
      "text/plain": [
       "numpy.ndarray"
      ]
     },
     "execution_count": 5,
     "metadata": {},
     "output_type": "execute_result"
    }
   ],
   "source": [
    "type(a)"
   ]
  },
  {
   "cell_type": "markdown",
   "id": "9b778fb2",
   "metadata": {},
   "source": [
    "# chekcing the type of the values stored in numpy array"
   ]
  },
  {
   "cell_type": "code",
   "execution_count": 6,
   "id": "ac95d0ab",
   "metadata": {},
   "outputs": [
    {
     "data": {
      "text/plain": [
       "dtype('int32')"
      ]
     },
     "execution_count": 6,
     "metadata": {},
     "output_type": "execute_result"
    }
   ],
   "source": [
    "a.dtype"
   ]
  },
  {
   "cell_type": "code",
   "execution_count": 34,
   "id": "07274508",
   "metadata": {},
   "outputs": [
    {
     "data": {
      "text/plain": [
       "array([20, 48, 50, 66, 63])"
      ]
     },
     "execution_count": 34,
     "metadata": {},
     "output_type": "execute_result"
    }
   ],
   "source": [
    "c = np.array([20,48,50,66,63])\n",
    "c"
   ]
  },
  {
   "cell_type": "code",
   "execution_count": 35,
   "id": "93d1fa8e",
   "metadata": {},
   "outputs": [
    {
     "data": {
      "text/plain": [
       "array([20, 48, 32, 66, 63])"
      ]
     },
     "execution_count": 35,
     "metadata": {},
     "output_type": "execute_result"
    }
   ],
   "source": [
    "c[2]=32\n",
    "c"
   ]
  },
  {
   "cell_type": "code",
   "execution_count": 36,
   "id": "5d524528",
   "metadata": {},
   "outputs": [
    {
     "data": {
      "text/plain": [
       "array([48, 32])"
      ]
     },
     "execution_count": 36,
     "metadata": {},
     "output_type": "execute_result"
    }
   ],
   "source": [
    "# slicing the array\n",
    "d = c[1:3]\n",
    "d"
   ]
  },
  {
   "cell_type": "code",
   "execution_count": 37,
   "id": "e3362a81",
   "metadata": {},
   "outputs": [
    {
     "data": {
      "text/plain": [
       "array([20, 48, 32, 66, 63])"
      ]
     },
     "execution_count": 37,
     "metadata": {},
     "output_type": "execute_result"
    }
   ],
   "source": [
    "c"
   ]
  },
  {
   "cell_type": "code",
   "execution_count": 38,
   "id": "99bba3ba",
   "metadata": {},
   "outputs": [
    {
     "data": {
      "text/plain": [
       "array([ 20,  48,  32, 300, 200])"
      ]
     },
     "execution_count": 38,
     "metadata": {},
     "output_type": "execute_result"
    }
   ],
   "source": [
    "# set third and fourth elemet as 300 and 400\n",
    "c[3] = 300\n",
    "c[-1]=200\n",
    "c"
   ]
  },
  {
   "cell_type": "markdown",
   "id": "58812f39",
   "metadata": {},
   "source": [
    "# We can also define the steps in slicing, like this: [start:end:step].\n"
   ]
  },
  {
   "cell_type": "code",
   "execution_count": 39,
   "id": "483a7c6f",
   "metadata": {},
   "outputs": [
    {
     "name": "stdout",
     "output_type": "stream",
     "text": [
      "[2 4]\n"
     ]
    }
   ],
   "source": [
    "arr = np.array([1,2,3,4,5,6,7])\n",
    "print(arr[1:4:2])"
   ]
  },
  {
   "cell_type": "code",
   "execution_count": null,
   "id": "ec4b2123",
   "metadata": {},
   "outputs": [],
   "source": []
  },
  {
   "cell_type": "markdown",
   "id": "26975750",
   "metadata": {},
   "source": [
    "If we don't pass start its considered 0\n"
   ]
  },
  {
   "cell_type": "markdown",
   "id": "390c5015",
   "metadata": {},
   "source": [
    "fined the sum of the maximum and minimum value in the given array"
   ]
  },
  {
   "cell_type": "code",
   "execution_count": 6,
   "id": "e33ef0c3",
   "metadata": {},
   "outputs": [
    {
     "name": "stdout",
     "output_type": "stream",
     "text": [
      "502\n",
      "-10\n",
      "492\n"
     ]
    }
   ],
   "source": [
    "import numpy as np\n",
    "c = np.array([-10,201,43,94,502])\n",
    "\n",
    "max_c= c.max()\n",
    "print(max_c)\n",
    "min_c= c.min()\n",
    "print(min_c)\n",
    "Sum = (max_c+min_c)\n",
    "print(Sum)\n"
   ]
  },
  {
   "cell_type": "markdown",
   "id": "851129d5",
   "metadata": {},
   "source": [
    "## Numpy Array Operations\n",
    "\n",
    "You could use arithmetic operators directly between NumPy arrays\n"
   ]
  },
  {
   "cell_type": "markdown",
   "id": "5bdd7315",
   "metadata": {},
   "source": [
    "# Array Addition\n",
    "considering the numpy array u:"
   ]
  },
  {
   "cell_type": "code",
   "execution_count": 7,
   "id": "f3784b18",
   "metadata": {},
   "outputs": [],
   "source": [
    "u = np.array([1,0])"
   ]
  },
  {
   "cell_type": "markdown",
   "id": "590f125f",
   "metadata": {},
   "source": [
    "considering the numpy array v:"
   ]
  },
  {
   "cell_type": "code",
   "execution_count": 8,
   "id": "683b16c9",
   "metadata": {},
   "outputs": [
    {
     "data": {
      "text/plain": [
       "array([0, 1])"
      ]
     },
     "execution_count": 8,
     "metadata": {},
     "output_type": "execute_result"
    }
   ],
   "source": [
    "v = np.array([0,1])\n",
    "v"
   ]
  },
  {
   "cell_type": "markdown",
   "id": "23de2623",
   "metadata": {},
   "source": [
    "we can add two arrays and assign to z"
   ]
  },
  {
   "cell_type": "code",
   "execution_count": 9,
   "id": "269fd38a",
   "metadata": {},
   "outputs": [
    {
     "data": {
      "text/plain": [
       "array([1, 1])"
      ]
     },
     "execution_count": 9,
     "metadata": {},
     "output_type": "execute_result"
    }
   ],
   "source": [
    "z = np.add(u,v)\n",
    "z"
   ]
  },
  {
   "cell_type": "markdown",
   "id": "a67d8c1a",
   "metadata": {},
   "source": [
    "the addition is equivalent to vector addition"
   ]
  },
  {
   "cell_type": "code",
   "execution_count": 10,
   "id": "0a2cb512",
   "metadata": {},
   "outputs": [],
   "source": [
    "# plotting functions\n",
    "\n",
    "import time\n",
    "import sys\n",
    "import numpy as np"
   ]
  },
  {
   "cell_type": "code",
   "execution_count": 11,
   "id": "20400abb",
   "metadata": {},
   "outputs": [],
   "source": [
    "import matplotlib.pyplot as plt\n",
    "%matplotlib inline"
   ]
  },
  {
   "cell_type": "code",
   "execution_count": 12,
   "id": "bf348247",
   "metadata": {},
   "outputs": [],
   "source": [
    "def Plotvec1(u,z,v):\n",
    "    ax = plt.axes()#use to generate the full window axes\n",
    "    ax.arrow(0,0,*u, head_width=0.05, color='r',head_length=0.1)\n",
    "    #add an arrow to the U Axes with arrow head width 0.05, color red and arrow head length 0.1\n",
    "    plt.text(*(u + 0.1),'u')#adds the text u to the Axes\n",
    "    \n",
    "    ax.arrow(0,0,*v,head_width=0.05,color='b',head_length=0.1)\n",
    "    # add an arrow to the v axes with arrow head width 0.05, color red and arrow head length 0.1\n",
    "    plt.text(*(v +0.1),'v')#adds the text v to the axes\n",
    "    \n",
    "    \n",
    "    ax.arrow(0, 0, *z, head_width=0.05, head_length=0.1)\n",
    "    plt.text(*(z + 0.1), 'z')#Adds the text z to the Axes \n",
    "    plt.ylim(-2, 2)#set the ylim to bottom(-2), top(2)\n",
    "    plt.xlim(-2, 2)#set the xlim to left(-2), right(2)\n",
    "    "
   ]
  },
  {
   "cell_type": "code",
   "execution_count": 13,
   "id": "0961f793",
   "metadata": {},
   "outputs": [
    {
     "data": {
      "image/png": "[encoded data removed]",
      "text/plain": [
       "<Figure size 640x480 with 1 Axes>"
      ]
     },
     "metadata": {},
     "output_type": "display_data"
    }
   ],
   "source": [
    "# Plot numpy arrays\n",
    "\n",
    "Plotvec1(u, z, v)"
   ]
  }
 ],
 "metadata": {
  "kernelspec": {
   "display_name": "Python 3 (ipykernel)",
   "language": "python",
   "name": "python3"
  },
  "language_info": {
   "codemirror_mode": {
    "name": "ipython",
    "version": 3
   },
   "file_extension": ".py",
   "mimetype": "text/x-python",
   "name": "python",
   "nbconvert_exporter": "python",
   "pygments_lexer": "ipython3",
   "version": "3.11.5"
  }
 },
 "nbformat": 4,
 "nbformat_minor": 5
}
